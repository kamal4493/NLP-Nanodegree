{
 "cells": [
  {
   "cell_type": "markdown",
   "metadata": {},
   "source": [
    "# Text Processing\n",
    "\n",
    "## Capturing Text Data\n",
    "\n",
    "### Plain Text"
   ]
  },
  {
   "cell_type": "code",
   "execution_count": 1,
   "metadata": {},
   "outputs": [
    {
     "name": "stdout",
     "output_type": "stream",
     "text": [
      "Hieroglyphic writing dates from c. 3000 BC, and is composed of hundreds of symbols. A hieroglyph can represent a word, a sound, or a silent determinative; and the same symbol can serve different purposes in different contexts. Hieroglyphs were a formal script, used on stone monuments and in tombs, that could be as detailed as individual works of art.\n",
      "\n"
     ]
    }
   ],
   "source": [
    "import os\n",
    "\n",
    "# Read in a plain text file\n",
    "with open(os.path.join(\"data\", \"hieroglyph.txt\"), \"r\") as f:\n",
    "    text = f.read()\n",
    "    print(text)"
   ]
  },
  {
   "cell_type": "markdown",
   "metadata": {},
   "source": [
    "### Tabular Data"
   ]
  },
  {
   "cell_type": "code",
   "execution_count": 2,
   "metadata": {
    "scrolled": true
   },
   "outputs": [
    {
     "data": {
      "text/html": [
       "<div>\n",
       "<style scoped>\n",
       "    .dataframe tbody tr th:only-of-type {\n",
       "        vertical-align: middle;\n",
       "    }\n",
       "\n",
       "    .dataframe tbody tr th {\n",
       "        vertical-align: top;\n",
       "    }\n",
       "\n",
       "    .dataframe thead th {\n",
       "        text-align: right;\n",
       "    }\n",
       "</style>\n",
       "<table border=\"1\" class=\"dataframe\">\n",
       "  <thead>\n",
       "    <tr style=\"text-align: right;\">\n",
       "      <th></th>\n",
       "      <th>publisher</th>\n",
       "      <th>title</th>\n",
       "    </tr>\n",
       "  </thead>\n",
       "  <tbody>\n",
       "    <tr>\n",
       "      <th>0</th>\n",
       "      <td>Livemint</td>\n",
       "      <td>fed's charles plosser sees high bar for change...</td>\n",
       "    </tr>\n",
       "    <tr>\n",
       "      <th>1</th>\n",
       "      <td>IFA Magazine</td>\n",
       "      <td>us open: stocks fall after fed official hints ...</td>\n",
       "    </tr>\n",
       "    <tr>\n",
       "      <th>2</th>\n",
       "      <td>IFA Magazine</td>\n",
       "      <td>fed risks falling 'behind the curve', charles ...</td>\n",
       "    </tr>\n",
       "    <tr>\n",
       "      <th>3</th>\n",
       "      <td>Moneynews</td>\n",
       "      <td>fed's plosser: nasty weather has curbed job gr...</td>\n",
       "    </tr>\n",
       "    <tr>\n",
       "      <th>4</th>\n",
       "      <td>NASDAQ</td>\n",
       "      <td>plosser: fed may have to accelerate tapering pace</td>\n",
       "    </tr>\n",
       "  </tbody>\n",
       "</table>\n",
       "</div>"
      ],
      "text/plain": [
       "      publisher                                              title\n",
       "0      Livemint  fed's charles plosser sees high bar for change...\n",
       "1  IFA Magazine  us open: stocks fall after fed official hints ...\n",
       "2  IFA Magazine  fed risks falling 'behind the curve', charles ...\n",
       "3     Moneynews  fed's plosser: nasty weather has curbed job gr...\n",
       "4        NASDAQ  plosser: fed may have to accelerate tapering pace"
      ]
     },
     "execution_count": 2,
     "metadata": {},
     "output_type": "execute_result"
    }
   ],
   "source": [
    "import pandas as pd\n",
    "\n",
    "# Extract text column from a dataframe\n",
    "df = pd.read_csv(os.path.join(\"data\", \"news.csv\"))\n",
    "df.head()[['publisher', 'title']]\n",
    "\n",
    "# Convert text column to lowercase\n",
    "df['title'] = df['title'].str.lower()\n",
    "df.head()[['publisher', 'title']]"
   ]
  },
  {
   "cell_type": "markdown",
   "metadata": {},
   "source": [
    "### Online Resource"
   ]
  },
  {
   "cell_type": "code",
   "execution_count": 3,
   "metadata": {
    "scrolled": true
   },
   "outputs": [
    {
     "name": "stdout",
     "output_type": "stream",
     "text": [
      "{\n",
      "    \"success\": {\n",
      "        \"total\": 1\n",
      "    },\n",
      "    \"contents\": {\n",
      "        \"quotes\": [\n",
      "            {\n",
      "                \"quote\": \"You gotta commit. You've gotta go out there and improvise and you've gotta be completely unafraid to die. You've got to be able to take a chance to die. And you have to die lots. You have to die all the time.\",\n",
      "                \"length\": \"208\",\n",
      "                \"author\": \"Bill Murray\",\n",
      "                \"tags\": [\n",
      "                    \"commit\",\n",
      "                    \"die\",\n",
      "                    \"inspire\",\n",
      "                    \"tod\"\n",
      "                ],\n",
      "                \"category\": \"inspire\",\n",
      "                \"date\": \"2019-09-17\",\n",
      "                \"permalink\": \"https://theysaidso.com/quote/bill-murray-you-gotta-commit-youve-gotta-go-out-there-and-improvise-and-youve-go\",\n",
      "                \"title\": \"Inspiring Quote of the day\",\n",
      "                \"background\": \"https://theysaidso.com/img/bgs/man_on_the_mountain.jpg\",\n",
      "                \"id\": \"10b5AxFYQVLnO6ekInTdmAeF\"\n",
      "            }\n",
      "        ],\n",
      "        \"copyright\": \"2017-19 theysaidso.com\"\n",
      "    }\n",
      "}\n",
      "You gotta commit. You've gotta go out there and improvise and you've gotta be completely unafraid to die. You've got to be able to take a chance to die. And you have to die lots. You have to die all the time. \n",
      "-- Bill Murray\n"
     ]
    }
   ],
   "source": [
    "import requests\n",
    "import json\n",
    "\n",
    "# Fetch data from a REST API\n",
    "r = requests.get(\n",
    "    \"https://quotes.rest/qod.json\")\n",
    "res = r.json()\n",
    "print(json.dumps(res, indent=4))\n",
    "\n",
    "# Extract relevant object and field\n",
    "q = res[\"contents\"][\"quotes\"][0]\n",
    "print(q[\"quote\"], \"\\n--\", q[\"author\"])"
   ]
  },
  {
   "cell_type": "markdown",
   "metadata": {},
   "source": [
    "## Cleaning"
   ]
  },
  {
   "cell_type": "code",
   "execution_count": 4,
   "metadata": {
    "scrolled": true
   },
   "outputs": [
    {
     "name": "stdout",
     "output_type": "stream",
     "text": [
      "<html op=\"news\"><head><meta name=\"referrer\" content=\"origin\"><meta name=\"viewport\" content=\"width=device-width, initial-scale=1.0\"><link rel=\"stylesheet\" type=\"text/css\" href=\"news.css?qoKZ5prHINNJDP73iNgm\">\n",
      "            <link rel=\"shortcut icon\" href=\"favicon.ico\">\n",
      "          <link rel=\"alternate\" type=\"application/rss+xml\" title=\"RSS\" href=\"rss\">\n",
      "        <title>Hacker News</title></head><body><center><table id=\"hnmain\" border=\"0\" cellpadding=\"0\" cellspacing=\"0\" width=\"85%\" bgcolor=\"#f6f6ef\">\n",
      "        <tr><td bgcolor=\"#ff6600\"><table border=\"0\" cellpadding=\"0\" cellspacing=\"0\" width=\"100%\" style=\"padding:2px\"><tr><td style=\"width:18px;padding-right:4px\"><a href=\"https://news.ycombinator.com\"><img src=\"y18.gif\" width=\"18\" height=\"18\" style=\"border:1px white solid;\"></a></td>\n",
      "                  <td style=\"line-height:12pt; height:10px;\"><span class=\"pagetop\"><b class=\"hnname\"><a href=\"news\">Hacker News</a></b>\n",
      "              <a href=\"newest\">new</a> | <a href=\"front\">past</a> | <a href=\"newcomments\">comments</a> | <a href=\"ask\">ask</a> | <a href=\"show\">show</a> | <a href=\"jobs\">jobs</a> | <a href=\"submit\">submit</a>            </span></td><td style=\"text-align:right;padding-right:4px;\"><span class=\"pagetop\">\n",
      "                              <a href=\"login?goto=news\">login</a>\n",
      "                          </span></td>\n",
      "              </tr></table></td></tr>\n",
      "<tr id=\"pagespace\" title=\"\" style=\"height:10px\"></tr><tr><td><table border=\"0\" cellpadding=\"0\" cellspacing=\"0\" class=\"itemlist\">\n",
      "              <tr class='athing' id='20995200'>\n",
      "      <td align=\"right\" valign=\"top\" class=\"title\"><span class=\"rank\">1.</span></td>      <td valign=\"top\" class=\"votelinks\"><center><a id='up_20995200' href='vote?id=20995200&amp;how=up&amp;goto=news'><div class='votearrow' title='upvote'></div></a></center></td><td class=\"title\"><a href=\"https://www.forbes.com/sites/alexkonrad/2019/09/17/gitlab-doubles-valuation-to-nearly-3-billion/\" class=\"storylink\">Gitlab More Than Doubles Valuation to $2.75B Ahead of Planned 2020 IPO</a><span class=\"sitebit comhead\"> (<a href=\"from?site=forbes.com\"><span class=\"sitestr\">forbes.com</span></a>)</span></td></tr><tr><td colspan=\"2\"></td><td class=\"subtext\">\n",
      "        <span class=\"score\" id=\"score_20995200\">513 points</span> by <a href=\"user?id=andygcook\" class=\"hnuser\">andygcook</a> <span class=\"age\"><a href=\"item?id=20995200\">5 hours ago</a></span> <span id=\"unv_20995200\"></span> | <a href=\"hide?id=20995200&amp;goto=news\">hide</a> | <a href=\"item?id=20995200\">232&nbsp;comments</a>              </td></tr>\n",
      "      <tr class=\"spacer\" style=\"height:5px\"></tr>\n",
      "                <tr class='athing' id='20995273'>\n",
      "      <td align=\"right\" valign=\"top\" class=\"title\"><span class=\"rank\">2.</span></td>      <td valign=\"top\" class=\"votelinks\"><center><a id='up_20995273' href='vote?id=20995273&amp;how=up&amp;goto=news'><div class='votearrow' title='upvote'></div></a></center></td><td class=\"title\"><a href=\"https://onezero.medium.com/the-internet-relies-on-people-working-for-free-a79104a68bcc\" class=\"storylink\">The Internet Relies on People Working for Free</a><span class=\"sitebit comhead\"> (<a href=\"from?site=onezero.medium.com\"><span class=\"sitestr\">onezero.medium.com</span></a>)</span></td></tr><tr><td colspan=\"2\"></td><td class=\"subtext\">\n",
      "        <span class=\"score\" id=\"score_20995273\">347 points</span> by <a href=\"user?id=gilad\" class=\"hnuser\">gilad</a> <span class=\"age\"><a href=\"item?id=20995273\">5 hours ago</a></span> <span id=\"unv_20995273\"></span> | <a href=\"hide?id=20995273&amp;goto=news\">hide</a> | <a href=\"item?id=20995273\">225&nbsp;comments</a>              </td></tr>\n",
      "      <tr class=\"spacer\" style=\"height:5px\"></tr>\n",
      "                <tr class='athing' id='20997623'>\n",
      "      <td align=\"right\" valign=\"top\" class=\"title\"><span class=\"rank\">3.</span></td>      <td valign=\"top\" class=\"votelinks\"><center><a id='up_20997623' href='vote?id=20997623&amp;how=up&amp;goto=news'><div class='votearrow' title='upvote'></div></a></center></td><td class=\"title\"><a href=\"https://cosmoteer.net/\" class=\"storylink\">Cosmoteer: A starship design, simulation, and battle game</a><span class=\"sitebit comhead\"> (<a href=\"from?site=cosmoteer.net\"><span class=\"sitestr\">cosmoteer.net</span></a>)</span></td></tr><tr><td colspan=\"2\"></td><td class=\"subtext\">\n",
      "        <span class=\"score\" id=\"score_20997623\">115 points</span> by <a href=\"user?id=winterismute\" class=\"hnuser\">winterismute</a> <span class=\"age\"><a href=\"item?id=20997623\">2 hours ago</a></span> <span id=\"unv_20997623\"></span> | <a href=\"hide?id=20997623&amp;goto=news\">hide</a> | <a href=\"item?id=20997623\">26&nbsp;comments</a>              </td></tr>\n",
      "      <tr class=\"spacer\" style=\"height:5px\"></tr>\n",
      "                <tr class='athing' id='20996756'>\n",
      "      <td align=\"right\" valign=\"top\" class=\"title\"><span class=\"rank\">4.</span></td>      <td valign=\"top\" class=\"votelinks\"><center><a id='up_20996756' href='vote?id=20996756&amp;how=up&amp;goto=news'><div class='votearrow' title='upvote'></div></a></center></td><td class=\"title\"><a href=\"https://hacks.mozilla.org/2019/09/moving-firefox-to-a-faster-4-week-release-cycle/\" class=\"storylink\">Firefox moving to 4 week releases</a><span class=\"sitebit comhead\"> (<a href=\"from?site=hacks.mozilla.org\"><span class=\"sitestr\">hacks.mozilla.org</span></a>)</span></td></tr><tr><td colspan=\"2\"></td><td class=\"subtext\">\n",
      "        <span class=\"score\" id=\"score_20996756\">151 points</span> by <a href=\"user?id=rebelwebmaster\" class=\"hnuser\">rebelwebmaster</a> <span class=\"age\"><a href=\"item?id=20996756\">3 hours ago</a></span> <span id=\"unv_20996756\"></span> | <a href=\"hide?id=20996756&amp;goto=news\">hide</a> | <a href=\"item?id=20996756\">64&nbsp;comments</a>              </td></tr>\n",
      "      <tr class=\"spacer\" style=\"height:5px\"></tr>\n",
      "                <tr class='athing' id='20996771'>\n",
      "      <td align=\"right\" valign=\"top\" class=\"title\"><span class=\"rank\">5.</span></td>      <td valign=\"top\" class=\"votelinks\"><center><a id='up_20996771' href='vote?id=20996771&amp;how=up&amp;goto=news'><div class='votearrow' title='upvote'></div></a></center></td><td class=\"title\"><a href=\"https://openai.com/blog/emergent-tool-use/\" class=\"storylink\">Emergent Tool Use from Multi-Agent Interaction</a><span class=\"sitebit comhead\"> (<a href=\"from?site=openai.com\"><span class=\"sitestr\">openai.com</span></a>)</span></td></tr><tr><td colspan=\"2\"></td><td class=\"subtext\">\n",
      "        <span class=\"score\" id=\"score_20996771\">140 points</span> by <a href=\"user?id=gdb\" class=\"hnuser\">gdb</a> <span class=\"age\"><a href=\"item?id=20996771\">3 hours ago</a></span> <span id=\"unv_20996771\"></span> | <a href=\"hide?id=20996771&amp;goto=news\">hide</a> | <a href=\"item?id=20996771\">28&nbsp;comments</a>              </td></tr>\n",
      "      <tr class=\"spacer\" style=\"height:5px\"></tr>\n",
      "                <tr class='athing' id='20998993'>\n",
      "      <td align=\"right\" valign=\"top\" class=\"title\"><span class=\"rank\">6.</span></td>      <td valign=\"top\" class=\"votelinks\"><center><a id='up_20998993' href='vote?id=20998993&amp;how=up&amp;goto=news'><div class='votearrow' title='upvote'></div></a></center></td><td class=\"title\"><a href=\"https://www.cnn.com/2019/09/17/business/overnight-lending-rate-spike-ny-fed/index.html\" class=\"storylink\">A crack in financial markets: NY Fed rescues overnight lending market with $53B</a><span class=\"sitebit comhead\"> (<a href=\"from?site=cnn.com\"><span class=\"sitestr\">cnn.com</span></a>)</span></td></tr><tr><td colspan=\"2\"></td><td class=\"subtext\">\n",
      "        <span class=\"score\" id=\"score_20998993\">27 points</span> by <a href=\"user?id=aazaa\" class=\"hnuser\">aazaa</a> <span class=\"age\"><a href=\"item?id=20998993\">42 minutes ago</a></span> <span id=\"unv_20998993\"></span> | <a href=\"hide?id=20998993&amp;goto=news\">hide</a> | <a href=\"item?id=20998993\">2&nbsp;comments</a>              </td></tr>\n",
      "      <tr class=\"spacer\" style=\"height:5px\"></tr>\n",
      "                <tr class='athing' id='20998870'>\n",
      "      <td align=\"right\" valign=\"top\" class=\"title\"><span class=\"rank\">7.</span></td>      <td valign=\"top\" class=\"votelinks\"><center><a id='up_20998870' href='vote?id=20998870&amp;how=up&amp;goto=news'><div class='votearrow' title='upvote'></div></a></center></td><td class=\"title\"><a href=\"https://www.nytimes.com/2019/09/17/climate/trump-california-emissions-waiver.html\" class=\"storylink\">Trump Will End California’s Authority to Set Stricter Auto Emissions Rules</a><span class=\"sitebit comhead\"> (<a href=\"from?site=nytimes.com\"><span class=\"sitestr\">nytimes.com</span></a>)</span></td></tr><tr><td colspan=\"2\"></td><td class=\"subtext\">\n",
      "        <span class=\"score\" id=\"score_20998870\">53 points</span> by <a href=\"user?id=el_benhameen\" class=\"hnuser\">el_benhameen</a> <span class=\"age\"><a href=\"item?id=20998870\">55 minutes ago</a></span> <span id=\"unv_20998870\"></span> | <a href=\"hide?id=20998870&amp;goto=news\">hide</a> | <a href=\"item?id=20998870\">22&nbsp;comments</a>              </td></tr>\n",
      "      <tr class=\"spacer\" style=\"height:5px\"></tr>\n",
      "                <tr class='athing' id='20996555'>\n",
      "      <td align=\"right\" valign=\"top\" class=\"title\"><span class=\"rank\">8.</span></td>      <td valign=\"top\" class=\"votelinks\"><center><a id='up_20996555' href='vote?id=20996555&amp;how=up&amp;goto=news'><div class='votearrow' title='upvote'></div></a></center></td><td class=\"title\"><a href=\"https://www.backblaze.com/blog/raising-prices-is-hard/\" class=\"storylink\">Raising Prices Is Hard</a><span class=\"sitebit comhead\"> (<a href=\"from?site=backblaze.com\"><span class=\"sitestr\">backblaze.com</span></a>)</span></td></tr><tr><td colspan=\"2\"></td><td class=\"subtext\">\n",
      "        <span class=\"score\" id=\"score_20996555\">135 points</span> by <a href=\"user?id=soheilpro\" class=\"hnuser\">soheilpro</a> <span class=\"age\"><a href=\"item?id=20996555\">4 hours ago</a></span> <span id=\"unv_20996555\"></span> | <a href=\"hide?id=20996555&amp;goto=news\">hide</a> | <a href=\"item?id=20996555\">51&nbsp;comments</a>              </td></tr>\n",
      "      <tr class=\"spacer\" style=\"height:5px\"></tr>\n",
      "                <tr class='athing' id='20996283'>\n",
      "      <td align=\"right\" valign=\"top\" class=\"title\"><span class=\"rank\">9.</span></td>      <td valign=\"top\" class=\"votelinks\"><center><a id='up_20996283' href='vote?id=20996283&amp;how=up&amp;goto=news'><div class='votearrow' title='upvote'></div></a></center></td><td class=\"title\"><a href=\"https://www.bbc.com/news/world-asia-china-49728071\" class=\"storylink\">Hong Kong tries and fails to hire PR firms to rebuild image</a><span class=\"sitebit comhead\"> (<a href=\"from?site=bbc.com\"><span class=\"sitestr\">bbc.com</span></a>)</span></td></tr><tr><td colspan=\"2\"></td><td class=\"subtext\">\n",
      "        <span class=\"score\" id=\"score_20996283\">89 points</span> by <a href=\"user?id=baylearn\" class=\"hnuser\">baylearn</a> <span class=\"age\"><a href=\"item?id=20996283\">4 hours ago</a></span> <span id=\"unv_20996283\"></span> | <a href=\"hide?id=20996283&amp;goto=news\">hide</a> | <a href=\"item?id=20996283\">43&nbsp;comments</a>              </td></tr>\n",
      "      <tr class=\"spacer\" style=\"height:5px\"></tr>\n",
      "                <tr class='athing' id='20998543'>\n",
      "      <td align=\"right\" valign=\"top\" class=\"title\"><span class=\"rank\">10.</span></td>      <td valign=\"top\" class=\"votelinks\"><center><a id='up_20998543' href='vote?id=20998543&amp;how=up&amp;goto=news'><div class='votearrow' title='upvote'></div></a></center></td><td class=\"title\"><a href=\"https://transformer.huggingface.co/\" class=\"storylink\">“It is to writing what calculators are to calculus.”</a><span class=\"sitebit comhead\"> (<a href=\"from?site=huggingface.co\"><span class=\"sitestr\">huggingface.co</span></a>)</span></td></tr><tr><td colspan=\"2\"></td><td class=\"subtext\">\n",
      "        <span class=\"score\" id=\"score_20998543\">19 points</span> by <a href=\"user?id=amai\" class=\"hnuser\">amai</a> <span class=\"age\"><a href=\"item?id=20998543\">1 hour ago</a></span> <span id=\"unv_20998543\"></span> | <a href=\"hide?id=20998543&amp;goto=news\">hide</a> | <a href=\"item?id=20998543\">4&nbsp;comments</a>              </td></tr>\n",
      "      <tr class=\"spacer\" style=\"height:5px\"></tr>\n",
      "                <tr class='athing' id='20997472'>\n",
      "      <td align=\"right\" valign=\"top\" class=\"title\"><span class=\"rank\">11.</span></td>      <td valign=\"top\" class=\"votelinks\"><center><a id='up_20997472' href='vote?id=20997472&amp;how=up&amp;goto=news'><div class='votearrow' title='upvote'></div></a></center></td><td class=\"title\"><a href=\"https://slackhq.com/slack-shared-channels\" class=\"storylink\">Slack Shared Channels</a><span class=\"sitebit comhead\"> (<a href=\"from?site=slackhq.com\"><span class=\"sitestr\">slackhq.com</span></a>)</span></td></tr><tr><td colspan=\"2\"></td><td class=\"subtext\">\n",
      "        <span class=\"score\" id=\"score_20997472\">52 points</span> by <a href=\"user?id=sunils34\" class=\"hnuser\">sunils34</a> <span class=\"age\"><a href=\"item?id=20997472\">2 hours ago</a></span> <span id=\"unv_20997472\"></span> | <a href=\"hide?id=20997472&amp;goto=news\">hide</a> | <a href=\"item?id=20997472\">28&nbsp;comments</a>              </td></tr>\n",
      "      <tr class=\"spacer\" style=\"height:5px\"></tr>\n",
      "                <tr class='athing' id='20998949'>\n",
      "      <td align=\"right\" valign=\"top\" class=\"title\"><span class=\"rank\">12.</span></td>      <td></td><td class=\"title\"><a href=\"https://www.notion.so/scholarme/ScholarMe-Fullstack-Developer-0-23a3c1eb4eba49ed8fca78d99b3a4143\" class=\"storylink\" rel=\"nofollow\">ScholarMe (YC S19) is hiring engineer #1 in Toronto</a><span class=\"sitebit comhead\"> (<a href=\"from?site=notion.so\"><span class=\"sitestr\">notion.so</span></a>)</span></td></tr><tr><td colspan=\"2\"></td><td class=\"subtext\">\n",
      "        <span class=\"age\"><a href=\"item?id=20998949\">47 minutes ago</a></span> | <a href=\"hide?id=20998949&amp;goto=news\">hide</a>      </td></tr>\n",
      "      <tr class=\"spacer\" style=\"height:5px\"></tr>\n",
      "                <tr class='athing' id='20995056'>\n",
      "      <td align=\"right\" valign=\"top\" class=\"title\"><span class=\"rank\">13.</span></td>      <td valign=\"top\" class=\"votelinks\"><center><a id='up_20995056' href='vote?id=20995056&amp;how=up&amp;goto=news'><div class='votearrow' title='upvote'></div></a></center></td><td class=\"title\"><a href=\"https://bytevitae.com/\" class=\"storylink\">Show HN: I made a resume generator for developers</a><span class=\"sitebit comhead\"> (<a href=\"from?site=bytevitae.com\"><span class=\"sitestr\">bytevitae.com</span></a>)</span></td></tr><tr><td colspan=\"2\"></td><td class=\"subtext\">\n",
      "        <span class=\"score\" id=\"score_20995056\">155 points</span> by <a href=\"user?id=vilvadot\" class=\"hnuser\">vilvadot</a> <span class=\"age\"><a href=\"item?id=20995056\">6 hours ago</a></span> <span id=\"unv_20995056\"></span> | <a href=\"hide?id=20995056&amp;goto=news\">hide</a> | <a href=\"item?id=20995056\">100&nbsp;comments</a>              </td></tr>\n",
      "      <tr class=\"spacer\" style=\"height:5px\"></tr>\n",
      "                <tr class='athing' id='20995968'>\n",
      "      <td align=\"right\" valign=\"top\" class=\"title\"><span class=\"rank\">14.</span></td>      <td valign=\"top\" class=\"votelinks\"><center><a id='up_20995968' href='vote?id=20995968&amp;how=up&amp;goto=news'><div class='votearrow' title='upvote'></div></a></center></td><td class=\"title\"><a href=\"http://my-it-notes.com/2019/08/chronicles_of_one_crypto_arbitrage_bot/\" class=\"storylink\">Open sourcing crypto-arbitrage bot in Python – back to the dawn of crypto hype</a><span class=\"sitebit comhead\"> (<a href=\"from?site=my-it-notes.com\"><span class=\"sitestr\">my-it-notes.com</span></a>)</span></td></tr><tr><td colspan=\"2\"></td><td class=\"subtext\">\n",
      "        <span class=\"score\" id=\"score_20995968\">73 points</span> by <a href=\"user?id=villager\" class=\"hnuser\">villager</a> <span class=\"age\"><a href=\"item?id=20995968\">4 hours ago</a></span> <span id=\"unv_20995968\"></span> | <a href=\"hide?id=20995968&amp;goto=news\">hide</a> | <a href=\"item?id=20995968\">9&nbsp;comments</a>              </td></tr>\n",
      "      <tr class=\"spacer\" style=\"height:5px\"></tr>\n",
      "                <tr class='athing' id='20994450'>\n",
      "      <td align=\"right\" valign=\"top\" class=\"title\"><span class=\"rank\">15.</span></td>      <td valign=\"top\" class=\"votelinks\"><center><a id='up_20994450' href='vote?id=20994450&amp;how=up&amp;goto=news'><div class='votearrow' title='upvote'></div></a></center></td><td class=\"title\"><a href=\"https://www.reuters.com/article/us-china-economy-activity/chinas-slowdown-deepens-industrial-output-growth-falls-to-17-1-2-year-low-idUSKBN1W102H\" class=\"storylink\">China's slowdown deepens; industrial output growth falls to 17.5-year low</a><span class=\"sitebit comhead\"> (<a href=\"from?site=reuters.com\"><span class=\"sitestr\">reuters.com</span></a>)</span></td></tr><tr><td colspan=\"2\"></td><td class=\"subtext\">\n",
      "        <span class=\"score\" id=\"score_20994450\">134 points</span> by <a href=\"user?id=paulpauper\" class=\"hnuser\">paulpauper</a> <span class=\"age\"><a href=\"item?id=20994450\">6 hours ago</a></span> <span id=\"unv_20994450\"></span> | <a href=\"hide?id=20994450&amp;goto=news\">hide</a> | <a href=\"item?id=20994450\">78&nbsp;comments</a>              </td></tr>\n",
      "      <tr class=\"spacer\" style=\"height:5px\"></tr>\n",
      "                <tr class='athing' id='20996837'>\n",
      "      <td align=\"right\" valign=\"top\" class=\"title\"><span class=\"rank\">16.</span></td>      <td valign=\"top\" class=\"votelinks\"><center><a id='up_20996837' href='vote?id=20996837&amp;how=up&amp;goto=news'><div class='votearrow' title='upvote'></div></a></center></td><td class=\"title\"><a href=\"https://stackoverflow.blog/2019/09/17/joel-spolsky-clive-thompson-discuss-coders-software-programming/\" class=\"storylink\">Joel Spolsky and Clive Thompson discuss the past, present, and future of coding</a><span class=\"sitebit comhead\"> (<a href=\"from?site=stackoverflow.blog\"><span class=\"sitestr\">stackoverflow.blog</span></a>)</span></td></tr><tr><td colspan=\"2\"></td><td class=\"subtext\">\n",
      "        <span class=\"score\" id=\"score_20996837\">85 points</span> by <a href=\"user?id=soheilpro\" class=\"hnuser\">soheilpro</a> <span class=\"age\"><a href=\"item?id=20996837\">3 hours ago</a></span> <span id=\"unv_20996837\"></span> | <a href=\"hide?id=20996837&amp;goto=news\">hide</a> | <a href=\"item?id=20996837\">66&nbsp;comments</a>              </td></tr>\n",
      "      <tr class=\"spacer\" style=\"height:5px\"></tr>\n",
      "                <tr class='athing' id='20998948'>\n",
      "      <td align=\"right\" valign=\"top\" class=\"title\"><span class=\"rank\">17.</span></td>      <td valign=\"top\" class=\"votelinks\"><center><a id='up_20998948' href='vote?id=20998948&amp;how=up&amp;goto=news'><div class='votearrow' title='upvote'></div></a></center></td><td class=\"title\"><a href=\"https://www.ft.com/content/21009e1c-d8c9-11e9-8f9b-77216ebe1f17\" class=\"storylink\" rel=\"nofollow\">Fossil fuel divestment has ‘zero’ climate impact, says Bill Gates</a><span class=\"sitebit comhead\"> (<a href=\"from?site=ft.com\"><span class=\"sitestr\">ft.com</span></a>)</span></td></tr><tr><td colspan=\"2\"></td><td class=\"subtext\">\n",
      "        <span class=\"score\" id=\"score_20998948\">6 points</span> by <a href=\"user?id=melling\" class=\"hnuser\">melling</a> <span class=\"age\"><a href=\"item?id=20998948\">47 minutes ago</a></span> <span id=\"unv_20998948\"></span> | <a href=\"hide?id=20998948&amp;goto=news\">hide</a> | <a href=\"item?id=20998948\">2&nbsp;comments</a>              </td></tr>\n",
      "      <tr class=\"spacer\" style=\"height:5px\"></tr>\n",
      "                <tr class='athing' id='20990135'>\n",
      "      <td align=\"right\" valign=\"top\" class=\"title\"><span class=\"rank\">18.</span></td>      <td valign=\"top\" class=\"votelinks\"><center><a id='up_20990135' href='vote?id=20990135&amp;how=up&amp;goto=news'><div class='votearrow' title='upvote'></div></a></center></td><td class=\"title\"><a href=\"https://segfault87.github.io/ldraw-rs-preview/#models/car.ldr\" class=\"storylink\">Ldraw: Lego Modeling in Rust</a><span class=\"sitebit comhead\"> (<a href=\"from?site=segfault87.github.io\"><span class=\"sitestr\">segfault87.github.io</span></a>)</span></td></tr><tr><td colspan=\"2\"></td><td class=\"subtext\">\n",
      "        <span class=\"score\" id=\"score_20990135\">33 points</span> by <a href=\"user?id=adamnemecek\" class=\"hnuser\">adamnemecek</a> <span class=\"age\"><a href=\"item?id=20990135\">2 hours ago</a></span> <span id=\"unv_20990135\"></span> | <a href=\"hide?id=20990135&amp;goto=news\">hide</a> | <a href=\"item?id=20990135\">3&nbsp;comments</a>              </td></tr>\n",
      "      <tr class=\"spacer\" style=\"height:5px\"></tr>\n",
      "                <tr class='athing' id='20994043'>\n",
      "      <td align=\"right\" valign=\"top\" class=\"title\"><span class=\"rank\">19.</span></td>      <td valign=\"top\" class=\"votelinks\"><center><a id='up_20994043' href='vote?id=20994043&amp;how=up&amp;goto=news'><div class='votearrow' title='upvote'></div></a></center></td><td class=\"title\"><a href=\"https://stratechery.com/2019/day-two-to-one-day/\" class=\"storylink\">Day Two to One Day</a><span class=\"sitebit comhead\"> (<a href=\"from?site=stratechery.com\"><span class=\"sitestr\">stratechery.com</span></a>)</span></td></tr><tr><td colspan=\"2\"></td><td class=\"subtext\">\n",
      "        <span class=\"score\" id=\"score_20994043\">137 points</span> by <a href=\"user?id=kaboro\" class=\"hnuser\">kaboro</a> <span class=\"age\"><a href=\"item?id=20994043\">7 hours ago</a></span> <span id=\"unv_20994043\"></span> | <a href=\"hide?id=20994043&amp;goto=news\">hide</a> | <a href=\"item?id=20994043\">55&nbsp;comments</a>              </td></tr>\n",
      "      <tr class=\"spacer\" style=\"height:5px\"></tr>\n",
      "                <tr class='athing' id='20997586'>\n",
      "      <td align=\"right\" valign=\"top\" class=\"title\"><span class=\"rank\">20.</span></td>      <td valign=\"top\" class=\"votelinks\"><center><a id='up_20997586' href='vote?id=20997586&amp;how=up&amp;goto=news'><div class='votearrow' title='upvote'></div></a></center></td><td class=\"title\"><a href=\"https://www.justice.gov/usao-edva/pr/united-states-files-civil-lawsuit-against-edward-snowden\" class=\"storylink\">United States Files Civil Lawsuit Against Edward Snowden</a><span class=\"sitebit comhead\"> (<a href=\"from?site=justice.gov\"><span class=\"sitestr\">justice.gov</span></a>)</span></td></tr><tr><td colspan=\"2\"></td><td class=\"subtext\">\n",
      "        <span class=\"score\" id=\"score_20997586\">135 points</span> by <a href=\"user?id=coloneltcb\" class=\"hnuser\">coloneltcb</a> <span class=\"age\"><a href=\"item?id=20997586\">2 hours ago</a></span> <span id=\"unv_20997586\"></span> | <a href=\"hide?id=20997586&amp;goto=news\">hide</a> | <a href=\"item?id=20997586\">143&nbsp;comments</a>              </td></tr>\n",
      "      <tr class=\"spacer\" style=\"height:5px\"></tr>\n",
      "                <tr class='athing' id='20998801'>\n",
      "      <td align=\"right\" valign=\"top\" class=\"title\"><span class=\"rank\">21.</span></td>      <td valign=\"top\" class=\"votelinks\"><center><a id='up_20998801' href='vote?id=20998801&amp;how=up&amp;goto=news'><div class='votearrow' title='upvote'></div></a></center></td><td class=\"title\"><a href=\"https://medium.com/riselab/functional-rl-with-keras-and-tensorflow-eager-7973f81d6345\" class=\"storylink\" rel=\"nofollow\">Functional RL with Keras and Tensorflow Eager</a><span class=\"sitebit comhead\"> (<a href=\"from?site=medium.com\"><span class=\"sitestr\">medium.com</span></a>)</span></td></tr><tr><td colspan=\"2\"></td><td class=\"subtext\">\n",
      "        <span class=\"score\" id=\"score_20998801\">6 points</span> by <a href=\"user?id=ekl\" class=\"hnuser\">ekl</a> <span class=\"age\"><a href=\"item?id=20998801\">1 hour ago</a></span> <span id=\"unv_20998801\"></span> | <a href=\"hide?id=20998801&amp;goto=news\">hide</a> | <a href=\"item?id=20998801\">discuss</a>              </td></tr>\n",
      "      <tr class=\"spacer\" style=\"height:5px\"></tr>\n",
      "                <tr class='athing' id='20998085'>\n",
      "      <td align=\"right\" valign=\"top\" class=\"title\"><span class=\"rank\">22.</span></td>      <td valign=\"top\" class=\"votelinks\"><center><a id='up_20998085' href='vote?id=20998085&amp;how=up&amp;goto=news'><div class='votearrow' title='upvote'></div></a></center></td><td class=\"title\"><a href=\"https://www.startupgifs.com/\" class=\"storylink\">Show HN: StartupGIFs – A repo of GIFs for every situation</a><span class=\"sitebit comhead\"> (<a href=\"from?site=startupgifs.com\"><span class=\"sitestr\">startupgifs.com</span></a>)</span></td></tr><tr><td colspan=\"2\"></td><td class=\"subtext\">\n",
      "        <span class=\"score\" id=\"score_20998085\">19 points</span> by <a href=\"user?id=luisb\" class=\"hnuser\">luisb</a> <span class=\"age\"><a href=\"item?id=20998085\">2 hours ago</a></span> <span id=\"unv_20998085\"></span> | <a href=\"hide?id=20998085&amp;goto=news\">hide</a> | <a href=\"item?id=20998085\">15&nbsp;comments</a>              </td></tr>\n",
      "      <tr class=\"spacer\" style=\"height:5px\"></tr>\n",
      "                <tr class='athing' id='20998905'>\n",
      "      <td align=\"right\" valign=\"top\" class=\"title\"><span class=\"rank\">23.</span></td>      <td valign=\"top\" class=\"votelinks\"><center><a id='up_20998905' href='vote?id=20998905&amp;how=up&amp;goto=news'><div class='votearrow' title='upvote'></div></a></center></td><td class=\"title\"><a href=\"https://www.weforum.org/agenda/2018/12/iceland-harnesses-hot-springs-to-power-year-round-farming\" class=\"storylink\" rel=\"nofollow\">Icelandic farmers' secret ingredient: volcanoes</a><span class=\"sitebit comhead\"> (<a href=\"from?site=weforum.org\"><span class=\"sitestr\">weforum.org</span></a>)</span></td></tr><tr><td colspan=\"2\"></td><td class=\"subtext\">\n",
      "        <span class=\"score\" id=\"score_20998905\">5 points</span> by <a href=\"user?id=adrian_mrd\" class=\"hnuser\">adrian_mrd</a> <span class=\"age\"><a href=\"item?id=20998905\">51 minutes ago</a></span> <span id=\"unv_20998905\"></span> | <a href=\"hide?id=20998905&amp;goto=news\">hide</a> | <a href=\"item?id=20998905\">discuss</a>              </td></tr>\n",
      "      <tr class=\"spacer\" style=\"height:5px\"></tr>\n",
      "                <tr class='athing' id='20998091'>\n",
      "      <td align=\"right\" valign=\"top\" class=\"title\"><span class=\"rank\">24.</span></td>      <td valign=\"top\" class=\"votelinks\"><center><a id='up_20998091' href='vote?id=20998091&amp;how=up&amp;goto=news'><div class='votearrow' title='upvote'></div></a></center></td><td class=\"title\"><a href=\"https://www.eff.org/deeplinks/2019/09/dont-let-congress-hand-patent-abusers-their-ultimate-wishlist\" class=\"storylink\">Don't Let Congress Hand Patent Abusers Their Ultimate Wishlist</a><span class=\"sitebit comhead\"> (<a href=\"from?site=eff.org\"><span class=\"sitestr\">eff.org</span></a>)</span></td></tr><tr><td colspan=\"2\"></td><td class=\"subtext\">\n",
      "        <span class=\"score\" id=\"score_20998091\">70 points</span> by <a href=\"user?id=DiabloD3\" class=\"hnuser\">DiabloD3</a> <span class=\"age\"><a href=\"item?id=20998091\">2 hours ago</a></span> <span id=\"unv_20998091\"></span> | <a href=\"hide?id=20998091&amp;goto=news\">hide</a> | <a href=\"item?id=20998091\">5&nbsp;comments</a>              </td></tr>\n",
      "      <tr class=\"spacer\" style=\"height:5px\"></tr>\n",
      "                <tr class='athing' id='20994146'>\n",
      "      <td align=\"right\" valign=\"top\" class=\"title\"><span class=\"rank\">25.</span></td>      <td valign=\"top\" class=\"votelinks\"><center><a id='up_20994146' href='vote?id=20994146&amp;how=up&amp;goto=news'><div class='votearrow' title='upvote'></div></a></center></td><td class=\"title\"><a href=\"https://www.ianvisits.co.uk/blog/2019/09/17/take-a-look-at-the-crossrail-station-under-bond-street/\" class=\"storylink\">Take a Look at the Crossrail Station Under Bond Street</a><span class=\"sitebit comhead\"> (<a href=\"from?site=ianvisits.co.uk\"><span class=\"sitestr\">ianvisits.co.uk</span></a>)</span></td></tr><tr><td colspan=\"2\"></td><td class=\"subtext\">\n",
      "        <span class=\"score\" id=\"score_20994146\">120 points</span> by <a href=\"user?id=edward\" class=\"hnuser\">edward</a> <span class=\"age\"><a href=\"item?id=20994146\">7 hours ago</a></span> <span id=\"unv_20994146\"></span> | <a href=\"hide?id=20994146&amp;goto=news\">hide</a> | <a href=\"item?id=20994146\">52&nbsp;comments</a>              </td></tr>\n",
      "      <tr class=\"spacer\" style=\"height:5px\"></tr>\n",
      "                <tr class='athing' id='20977751'>\n",
      "      <td align=\"right\" valign=\"top\" class=\"title\"><span class=\"rank\">26.</span></td>      <td valign=\"top\" class=\"votelinks\"><center><a id='up_20977751' href='vote?id=20977751&amp;how=up&amp;goto=news'><div class='votearrow' title='upvote'></div></a></center></td><td class=\"title\"><a href=\"https://www.sfchronicle.com/bayarea/article/FAA-safety-report-reveals-cases-of-pilots-mixing-14436212.php\" class=\"storylink\">A typo that almost crashed a plane</a><span class=\"sitebit comhead\"> (<a href=\"from?site=sfchronicle.com\"><span class=\"sitestr\">sfchronicle.com</span></a>)</span></td></tr><tr><td colspan=\"2\"></td><td class=\"subtext\">\n",
      "        <span class=\"score\" id=\"score_20977751\">12 points</span> by <a href=\"user?id=danso\" class=\"hnuser\">danso</a> <span class=\"age\"><a href=\"item?id=20977751\">2 hours ago</a></span> <span id=\"unv_20977751\"></span> | <a href=\"hide?id=20977751&amp;goto=news\">hide</a> | <a href=\"item?id=20977751\">5&nbsp;comments</a>              </td></tr>\n",
      "      <tr class=\"spacer\" style=\"height:5px\"></tr>\n",
      "                <tr class='athing' id='20998156'>\n",
      "      <td align=\"right\" valign=\"top\" class=\"title\"><span class=\"rank\">27.</span></td>      <td valign=\"top\" class=\"votelinks\"><center><a id='up_20998156' href='vote?id=20998156&amp;how=up&amp;goto=news'><div class='votearrow' title='upvote'></div></a></center></td><td class=\"title\"><a href=\"https://github.com/keras-team/keras/releases/tag/2.3.0\" class=\"storylink\">Release Keras 2.3.0 · Keras-team/Keras</a><span class=\"sitebit comhead\"> (<a href=\"from?site=github.com\"><span class=\"sitestr\">github.com</span></a>)</span></td></tr><tr><td colspan=\"2\"></td><td class=\"subtext\">\n",
      "        <span class=\"score\" id=\"score_20998156\">15 points</span> by <a href=\"user?id=Anon84\" class=\"hnuser\">Anon84</a> <span class=\"age\"><a href=\"item?id=20998156\">1 hour ago</a></span> <span id=\"unv_20998156\"></span> | <a href=\"hide?id=20998156&amp;goto=news\">hide</a> | <a href=\"item?id=20998156\">4&nbsp;comments</a>              </td></tr>\n",
      "      <tr class=\"spacer\" style=\"height:5px\"></tr>\n",
      "                <tr class='athing' id='20989213'>\n",
      "      <td align=\"right\" valign=\"top\" class=\"title\"><span class=\"rank\">28.</span></td>      <td valign=\"top\" class=\"votelinks\"><center><a id='up_20989213' href='vote?id=20989213&amp;how=up&amp;goto=news'><div class='votearrow' title='upvote'></div></a></center></td><td class=\"title\"><a href=\"https://www.collectorsweekly.com/articles/cliftons-brookdale-cafeteria/\" class=\"storylink\">L.A.'S Wildest Cafeteria Served Utopian Fantasy with a Side of Enchiladas (2014)</a><span class=\"sitebit comhead\"> (<a href=\"from?site=collectorsweekly.com\"><span class=\"sitestr\">collectorsweekly.com</span></a>)</span></td></tr><tr><td colspan=\"2\"></td><td class=\"subtext\">\n",
      "        <span class=\"score\" id=\"score_20989213\">29 points</span> by <a href=\"user?id=samclemens\" class=\"hnuser\">samclemens</a> <span class=\"age\"><a href=\"item?id=20989213\">4 hours ago</a></span> <span id=\"unv_20989213\"></span> | <a href=\"hide?id=20989213&amp;goto=news\">hide</a> | <a href=\"item?id=20989213\">11&nbsp;comments</a>              </td></tr>\n",
      "      <tr class=\"spacer\" style=\"height:5px\"></tr>\n",
      "                <tr class='athing' id='20993201'>\n",
      "      <td align=\"right\" valign=\"top\" class=\"title\"><span class=\"rank\">29.</span></td>      <td valign=\"top\" class=\"votelinks\"><center><a id='up_20993201' href='vote?id=20993201&amp;how=up&amp;goto=news'><div class='votearrow' title='upvote'></div></a></center></td><td class=\"title\"><a href=\"https://arstechnica.com/science/2019/09/what-it-was-like-to-fly-the-baddest-airplane-the-world-has-ever-known/\" class=\"storylink\">What it was like to fly the baddest airplane</a><span class=\"sitebit comhead\"> (<a href=\"from?site=arstechnica.com\"><span class=\"sitestr\">arstechnica.com</span></a>)</span></td></tr><tr><td colspan=\"2\"></td><td class=\"subtext\">\n",
      "        <span class=\"score\" id=\"score_20993201\">157 points</span> by <a href=\"user?id=rbanffy\" class=\"hnuser\">rbanffy</a> <span class=\"age\"><a href=\"item?id=20993201\">10 hours ago</a></span> <span id=\"unv_20993201\"></span> | <a href=\"hide?id=20993201&amp;goto=news\">hide</a> | <a href=\"item?id=20993201\">53&nbsp;comments</a>              </td></tr>\n",
      "      <tr class=\"spacer\" style=\"height:5px\"></tr>\n",
      "                <tr class='athing' id='20992378'>\n",
      "      <td align=\"right\" valign=\"top\" class=\"title\"><span class=\"rank\">30.</span></td>      <td valign=\"top\" class=\"votelinks\"><center><a id='up_20992378' href='vote?id=20992378&amp;how=up&amp;goto=news'><div class='votearrow' title='upvote'></div></a></center></td><td class=\"title\"><a href=\"https://www.nytimes.com/2019/09/16/opinion/equifax-settlement.html\" class=\"storylink\">Equifax doesn't want consumers to get their $125</a><span class=\"sitebit comhead\"> (<a href=\"from?site=nytimes.com\"><span class=\"sitestr\">nytimes.com</span></a>)</span></td></tr><tr><td colspan=\"2\"></td><td class=\"subtext\">\n",
      "        <span class=\"score\" id=\"score_20992378\">542 points</span> by <a href=\"user?id=CaliforniaKarl\" class=\"hnuser\">CaliforniaKarl</a> <span class=\"age\"><a href=\"item?id=20992378\">13 hours ago</a></span> <span id=\"unv_20992378\"></span> | <a href=\"hide?id=20992378&amp;goto=news\">hide</a> | <a href=\"item?id=20992378\">247&nbsp;comments</a>              </td></tr>\n",
      "      <tr class=\"spacer\" style=\"height:5px\"></tr>\n",
      "            <tr class=\"morespace\" style=\"height:10px\"></tr><tr><td colspan=\"2\"></td><td class=\"title\"><a href=\"news?p=2\" class=\"morelink\" rel=\"next\">More</a></td></tr>\n",
      "  </table>\n",
      "</td></tr>\n",
      "<tr><td><img src=\"s.gif\" height=\"10\" width=\"0\"><table width=\"100%\" cellspacing=\"0\" cellpadding=\"1\"><tr><td bgcolor=\"#ff6600\"></td></tr></table><br><center><a href=\"https://www.ycombinator.com/apply/\">\n",
      "        Applications are open for YC Winter 2020\n",
      "      </a></center><br><center><span class=\"yclinks\"><a href=\"newsguidelines.html\">Guidelines</a>\n",
      "        | <a href=\"newsfaq.html\">FAQ</a>\n",
      "        | <a href=\"mailto:hn@ycombinator.com\">Support</a>\n",
      "        | <a href=\"https://github.com/HackerNews/API\">API</a>\n",
      "        | <a href=\"security.html\">Security</a>\n",
      "        | <a href=\"lists\">Lists</a>\n",
      "        | <a href=\"bookmarklet.html\" rel=\"nofollow\">Bookmarklet</a>\n",
      "        | <a href=\"http://www.ycombinator.com/legal/\">Legal</a>\n",
      "        | <a href=\"http://www.ycombinator.com/apply/\">Apply to YC</a>\n",
      "        | <a href=\"mailto:hn@ycombinator.com\">Contact</a></span><br><br><form method=\"get\" action=\"//hn.algolia.com/\">Search:\n",
      "          <input type=\"text\" name=\"q\" value=\"\" size=\"17\" autocorrect=\"off\" spellcheck=\"false\" autocapitalize=\"off\" autocomplete=\"false\"></form>\n",
      "            </center></td></tr>\n",
      "      </table></center></body><script type='text/javascript' src='hn.js?qoKZ5prHINNJDP73iNgm'></script>\n",
      "  </html>\n",
      "\n"
     ]
    }
   ],
   "source": [
    "import requests\n",
    "\n",
    "# Fetch a web page\n",
    "r = requests.get(\"https://news.ycombinator.com\")\n",
    "print(r.text)"
   ]
  },
  {
   "cell_type": "code",
   "execution_count": 5,
   "metadata": {},
   "outputs": [
    {
     "name": "stdout",
     "output_type": "stream",
     "text": [
      "\n",
      "            \n",
      "          \n",
      "        Hacker News\n",
      "        \n",
      "                  Hacker News\n",
      "              new | past | comments | ask | show | jobs | submit            \n",
      "                              login\n",
      "                          \n",
      "              \n",
      "\n",
      "              \n",
      "      1.      Gitlab More Than Doubles Valuation to $2.75B Ahead of Planned 2020 IPO (forbes.com)\n",
      "        513 points by andygcook 5 hours ago  | hide | 232&nbsp;comments              \n",
      "      \n",
      "                \n",
      "      2.      The Internet Relies on People Working for Free (onezero.medium.com)\n",
      "        347 points by gilad 5 hours ago  | hide | 225&nbsp;comments              \n",
      "      \n",
      "                \n",
      "      3.      Cosmoteer: A starship design, simulation, and battle game (cosmoteer.net)\n",
      "        115 points by winterismute 2 hours ago  | hide | 26&nbsp;comments              \n",
      "      \n",
      "                \n",
      "      4.      Firefox moving to 4 week releases (hacks.mozilla.org)\n",
      "        151 points by rebelwebmaster 3 hours ago  | hide | 64&nbsp;comments              \n",
      "      \n",
      "                \n",
      "      5.      Emergent Tool Use from Multi-Agent Interaction (openai.com)\n",
      "        140 points by gdb 3 hours ago  | hide | 28&nbsp;comments              \n",
      "      \n",
      "                \n",
      "      6.      A crack in financial markets: NY Fed rescues overnight lending market with $53B (cnn.com)\n",
      "        27 points by aazaa 42 minutes ago  | hide | 2&nbsp;comments              \n",
      "      \n",
      "                \n",
      "      7.      Trump Will End California’s Authority to Set Stricter Auto Emissions Rules (nytimes.com)\n",
      "        53 points by el_benhameen 55 minutes ago  | hide | 22&nbsp;comments              \n",
      "      \n",
      "                \n",
      "      8.      Raising Prices Is Hard (backblaze.com)\n",
      "        135 points by soheilpro 4 hours ago  | hide | 51&nbsp;comments              \n",
      "      \n",
      "                \n",
      "      9.      Hong Kong tries and fails to hire PR firms to rebuild image (bbc.com)\n",
      "        89 points by baylearn 4 hours ago  | hide | 43&nbsp;comments              \n",
      "      \n",
      "                \n",
      "      10.      “It is to writing what calculators are to calculus.” (huggingface.co)\n",
      "        19 points by amai 1 hour ago  | hide | 4&nbsp;comments              \n",
      "      \n",
      "                \n",
      "      11.      Slack Shared Channels (slackhq.com)\n",
      "        52 points by sunils34 2 hours ago  | hide | 28&nbsp;comments              \n",
      "      \n",
      "                \n",
      "      12.      ScholarMe (YC S19) is hiring engineer #1 in Toronto (notion.so)\n",
      "        47 minutes ago | hide      \n",
      "      \n",
      "                \n",
      "      13.      Show HN: I made a resume generator for developers (bytevitae.com)\n",
      "        155 points by vilvadot 6 hours ago  | hide | 100&nbsp;comments              \n",
      "      \n",
      "                \n",
      "      14.      Open sourcing crypto-arbitrage bot in Python – back to the dawn of crypto hype (my-it-notes.com)\n",
      "        73 points by villager 4 hours ago  | hide | 9&nbsp;comments              \n",
      "      \n",
      "                \n",
      "      15.      China's slowdown deepens; industrial output growth falls to 17.5-year low (reuters.com)\n",
      "        134 points by paulpauper 6 hours ago  | hide | 78&nbsp;comments              \n",
      "      \n",
      "                \n",
      "      16.      Joel Spolsky and Clive Thompson discuss the past, present, and future of coding (stackoverflow.blog)\n",
      "        85 points by soheilpro 3 hours ago  | hide | 66&nbsp;comments              \n",
      "      \n",
      "                \n",
      "      17.      Fossil fuel divestment has ‘zero’ climate impact, says Bill Gates (ft.com)\n",
      "        6 points by melling 47 minutes ago  | hide | 2&nbsp;comments              \n",
      "      \n",
      "                \n",
      "      18.      Ldraw: Lego Modeling in Rust (segfault87.github.io)\n",
      "        33 points by adamnemecek 2 hours ago  | hide | 3&nbsp;comments              \n",
      "      \n",
      "                \n",
      "      19.      Day Two to One Day (stratechery.com)\n",
      "        137 points by kaboro 7 hours ago  | hide | 55&nbsp;comments              \n",
      "      \n",
      "                \n",
      "      20.      United States Files Civil Lawsuit Against Edward Snowden (justice.gov)\n",
      "        135 points by coloneltcb 2 hours ago  | hide | 143&nbsp;comments              \n",
      "      \n",
      "                \n",
      "      21.      Functional RL with Keras and Tensorflow Eager (medium.com)\n",
      "        6 points by ekl 1 hour ago  | hide | discuss              \n",
      "      \n",
      "                \n",
      "      22.      Show HN: StartupGIFs – A repo of GIFs for every situation (startupgifs.com)\n",
      "        19 points by luisb 2 hours ago  | hide | 15&nbsp;comments              \n",
      "      \n",
      "                \n",
      "      23.      Icelandic farmers' secret ingredient: volcanoes (weforum.org)\n",
      "        5 points by adrian_mrd 51 minutes ago  | hide | discuss              \n",
      "      \n",
      "                \n",
      "      24.      Don't Let Congress Hand Patent Abusers Their Ultimate Wishlist (eff.org)\n",
      "        70 points by DiabloD3 2 hours ago  | hide | 5&nbsp;comments              \n",
      "      \n",
      "                \n",
      "      25.      Take a Look at the Crossrail Station Under Bond Street (ianvisits.co.uk)\n",
      "        120 points by edward 7 hours ago  | hide | 52&nbsp;comments              \n",
      "      \n",
      "                \n",
      "      26.      A typo that almost crashed a plane (sfchronicle.com)\n",
      "        12 points by danso 2 hours ago  | hide | 5&nbsp;comments              \n",
      "      \n",
      "                \n",
      "      27.      Release Keras 2.3.0 · Keras-team/Keras (github.com)\n",
      "        15 points by Anon84 1 hour ago  | hide | 4&nbsp;comments              \n",
      "      \n",
      "                \n",
      "      28.      L.A.'S Wildest Cafeteria Served Utopian Fantasy with a Side of Enchiladas (2014) (collectorsweekly.com)\n",
      "        29 points by samclemens 4 hours ago  | hide | 11&nbsp;comments              \n",
      "      \n",
      "                \n",
      "      29.      What it was like to fly the baddest airplane (arstechnica.com)\n",
      "        157 points by rbanffy 10 hours ago  | hide | 53&nbsp;comments              \n",
      "      \n",
      "                \n",
      "      30.      Equifax doesn't want consumers to get their $125 (nytimes.com)\n",
      "        542 points by CaliforniaKarl 13 hours ago  | hide | 247&nbsp;comments              \n",
      "      \n",
      "            More\n",
      "  \n",
      "\n",
      "\n",
      "        Applications are open for YC Winter 2020\n",
      "      Guidelines\n",
      "        | FAQ\n",
      "        | Support\n",
      "        | API\n",
      "        | Security\n",
      "        | Lists\n",
      "        | Bookmarklet\n",
      "        | Legal\n",
      "        | Apply to YC\n",
      "        | ContactSearch:\n",
      "          \n",
      "            \n",
      "      \n",
      "  \n",
      "\n"
     ]
    }
   ],
   "source": [
    "import re\n",
    "\n",
    "# Remove HTML tags using RegEx\n",
    "pattern = re.compile(r'<.*?>')  # tags look like <...>\n",
    "print(pattern.sub('', r.text))  # replace them with blank"
   ]
  },
  {
   "cell_type": "code",
   "execution_count": 6,
   "metadata": {},
   "outputs": [
    {
     "name": "stdout",
     "output_type": "stream",
     "text": [
      "\n",
      "            \n",
      "          \n",
      "        Hacker News\n",
      "        \n",
      "                  Hacker News\n",
      "              new | past | comments | ask | show | jobs | submit            \n",
      "                              login\n",
      "                          \n",
      "              \n",
      "\n",
      "              \n",
      "      1.      Gitlab More Than Doubles Valuation to $2.75B Ahead of Planned 2020 IPO (forbes.com)\n",
      "        513 points by andygcook 5 hours ago  | hide | 232 comments              \n",
      "      \n",
      "                \n",
      "      2.      The Internet Relies on People Working for Free (onezero.medium.com)\n",
      "        347 points by gilad 5 hours ago  | hide | 225 comments              \n",
      "      \n",
      "                \n",
      "      3.      Cosmoteer: A starship design, simulation, and battle game (cosmoteer.net)\n",
      "        115 points by winterismute 2 hours ago  | hide | 26 comments              \n",
      "      \n",
      "                \n",
      "      4.      Firefox moving to 4 week releases (hacks.mozilla.org)\n",
      "        151 points by rebelwebmaster 3 hours ago  | hide | 64 comments              \n",
      "      \n",
      "                \n",
      "      5.      Emergent Tool Use from Multi-Agent Interaction (openai.com)\n",
      "        140 points by gdb 3 hours ago  | hide | 28 comments              \n",
      "      \n",
      "                \n",
      "      6.      A crack in financial markets: NY Fed rescues overnight lending market with $53B (cnn.com)\n",
      "        27 points by aazaa 42 minutes ago  | hide | 2 comments              \n",
      "      \n",
      "                \n",
      "      7.      Trump Will End California’s Authority to Set Stricter Auto Emissions Rules (nytimes.com)\n",
      "        53 points by el_benhameen 55 minutes ago  | hide | 22 comments              \n",
      "      \n",
      "                \n",
      "      8.      Raising Prices Is Hard (backblaze.com)\n",
      "        135 points by soheilpro 4 hours ago  | hide | 51 comments              \n",
      "      \n",
      "                \n",
      "      9.      Hong Kong tries and fails to hire PR firms to rebuild image (bbc.com)\n",
      "        89 points by baylearn 4 hours ago  | hide | 43 comments              \n",
      "      \n",
      "                \n",
      "      10.      “It is to writing what calculators are to calculus.” (huggingface.co)\n",
      "        19 points by amai 1 hour ago  | hide | 4 comments              \n",
      "      \n",
      "                \n",
      "      11.      Slack Shared Channels (slackhq.com)\n",
      "        52 points by sunils34 2 hours ago  | hide | 28 comments              \n",
      "      \n",
      "                \n",
      "      12.      ScholarMe (YC S19) is hiring engineer #1 in Toronto (notion.so)\n",
      "        47 minutes ago | hide      \n",
      "      \n",
      "                \n",
      "      13.      Show HN: I made a resume generator for developers (bytevitae.com)\n",
      "        155 points by vilvadot 6 hours ago  | hide | 100 comments              \n",
      "      \n",
      "                \n",
      "      14.      Open sourcing crypto-arbitrage bot in Python – back to the dawn of crypto hype (my-it-notes.com)\n",
      "        73 points by villager 4 hours ago  | hide | 9 comments              \n",
      "      \n",
      "                \n",
      "      15.      China's slowdown deepens; industrial output growth falls to 17.5-year low (reuters.com)\n",
      "        134 points by paulpauper 6 hours ago  | hide | 78 comments              \n",
      "      \n",
      "                \n",
      "      16.      Joel Spolsky and Clive Thompson discuss the past, present, and future of coding (stackoverflow.blog)\n",
      "        85 points by soheilpro 3 hours ago  | hide | 66 comments              \n",
      "      \n",
      "                \n",
      "      17.      Fossil fuel divestment has ‘zero’ climate impact, says Bill Gates (ft.com)\n",
      "        6 points by melling 47 minutes ago  | hide | 2 comments              \n",
      "      \n",
      "                \n",
      "      18.      Ldraw: Lego Modeling in Rust (segfault87.github.io)\n",
      "        33 points by adamnemecek 2 hours ago  | hide | 3 comments              \n",
      "      \n",
      "                \n",
      "      19.      Day Two to One Day (stratechery.com)\n",
      "        137 points by kaboro 7 hours ago  | hide | 55 comments              \n",
      "      \n",
      "                \n",
      "      20.      United States Files Civil Lawsuit Against Edward Snowden (justice.gov)\n",
      "        135 points by coloneltcb 2 hours ago  | hide | 143 comments              \n",
      "      \n",
      "                \n",
      "      21.      Functional RL with Keras and Tensorflow Eager (medium.com)\n",
      "        6 points by ekl 1 hour ago  | hide | discuss              \n",
      "      \n",
      "                \n",
      "      22.      Show HN: StartupGIFs – A repo of GIFs for every situation (startupgifs.com)\n",
      "        19 points by luisb 2 hours ago  | hide | 15 comments              \n",
      "      \n",
      "                \n",
      "      23.      Icelandic farmers' secret ingredient: volcanoes (weforum.org)\n",
      "        5 points by adrian_mrd 51 minutes ago  | hide | discuss              \n",
      "      \n",
      "                \n",
      "      24.      Don't Let Congress Hand Patent Abusers Their Ultimate Wishlist (eff.org)\n",
      "        70 points by DiabloD3 2 hours ago  | hide | 5 comments              \n",
      "      \n",
      "                \n",
      "      25.      Take a Look at the Crossrail Station Under Bond Street (ianvisits.co.uk)\n",
      "        120 points by edward 7 hours ago  | hide | 52 comments              \n",
      "      \n",
      "                \n",
      "      26.      A typo that almost crashed a plane (sfchronicle.com)\n",
      "        12 points by danso 2 hours ago  | hide | 5 comments              \n",
      "      \n",
      "                \n",
      "      27.      Release Keras 2.3.0 · Keras-team/Keras (github.com)\n",
      "        15 points by Anon84 1 hour ago  | hide | 4 comments              \n",
      "      \n",
      "                \n",
      "      28.      L.A.'S Wildest Cafeteria Served Utopian Fantasy with a Side of Enchiladas (2014) (collectorsweekly.com)\n",
      "        29 points by samclemens 4 hours ago  | hide | 11 comments              \n",
      "      \n",
      "                \n",
      "      29.      What it was like to fly the baddest airplane (arstechnica.com)\n",
      "        157 points by rbanffy 10 hours ago  | hide | 53 comments              \n",
      "      \n",
      "                \n",
      "      30.      Equifax doesn't want consumers to get their $125 (nytimes.com)\n",
      "        542 points by CaliforniaKarl 13 hours ago  | hide | 247 comments              \n",
      "      \n",
      "            More\n",
      "  \n",
      "\n",
      "\n",
      "        Applications are open for YC Winter 2020\n",
      "      Guidelines\n",
      "        | FAQ\n",
      "        | Support\n",
      "        | API\n",
      "        | Security\n",
      "        | Lists\n",
      "        | Bookmarklet\n",
      "        | Legal\n",
      "        | Apply to YC\n",
      "        | ContactSearch:\n",
      "          \n",
      "            \n",
      "      \n",
      "  \n",
      "\n"
     ]
    }
   ],
   "source": [
    "from bs4 import BeautifulSoup\n",
    "\n",
    "# Remove HTML tags using Beautiful Soup library\n",
    "soup = BeautifulSoup(r.text, \"html5lib\")\n",
    "print(soup.get_text())"
   ]
  },
  {
   "cell_type": "code",
   "execution_count": 7,
   "metadata": {
    "scrolled": true
   },
   "outputs": [
    {
     "data": {
      "text/plain": [
       "<tr class=\"athing\" id=\"20995200\">\n",
       "      <td align=\"right\" class=\"title\" valign=\"top\"><span class=\"rank\">1.</span></td>      <td class=\"votelinks\" valign=\"top\"><center><a href=\"vote?id=20995200&amp;how=up&amp;goto=news\" id=\"up_20995200\"><div class=\"votearrow\" title=\"upvote\"></div></a></center></td><td class=\"title\"><a class=\"storylink\" href=\"https://www.forbes.com/sites/alexkonrad/2019/09/17/gitlab-doubles-valuation-to-nearly-3-billion/\">Gitlab More Than Doubles Valuation to $2.75B Ahead of Planned 2020 IPO</a><span class=\"sitebit comhead\"> (<a href=\"from?site=forbes.com\"><span class=\"sitestr\">forbes.com</span></a>)</span></td></tr>"
      ]
     },
     "execution_count": 7,
     "metadata": {},
     "output_type": "execute_result"
    }
   ],
   "source": [
    "# Find all articles\n",
    "summaries = soup.find_all(\"tr\", class_=\"athing\")\n",
    "summaries[0]"
   ]
  },
  {
   "cell_type": "code",
   "execution_count": 8,
   "metadata": {},
   "outputs": [
    {
     "data": {
      "text/plain": [
       "'Gitlab More Than Doubles Valuation to $2.75B Ahead of Planned 2020 IPO'"
      ]
     },
     "execution_count": 8,
     "metadata": {},
     "output_type": "execute_result"
    }
   ],
   "source": [
    "# Extract title\n",
    "summaries[0].find(\"a\", class_=\"storylink\").get_text().strip()"
   ]
  },
  {
   "cell_type": "code",
   "execution_count": 9,
   "metadata": {},
   "outputs": [
    {
     "name": "stdout",
     "output_type": "stream",
     "text": [
      "30 Article summaries found. Sample:\n",
      "Gitlab More Than Doubles Valuation to $2.75B Ahead of Planned 2020 IPO\n"
     ]
    }
   ],
   "source": [
    "# Find all articles, extract titles\n",
    "articles = []\n",
    "summaries = soup.find_all(\"tr\", class_=\"athing\")\n",
    "for summary in summaries:\n",
    "    title = summary.find(\"a\", class_=\"storylink\").get_text().strip()\n",
    "    articles.append((title))\n",
    "\n",
    "print(len(articles), \"Article summaries found. Sample:\")\n",
    "print(articles[0])"
   ]
  },
  {
   "cell_type": "markdown",
   "metadata": {
    "collapsed": true
   },
   "source": [
    "## Normalization"
   ]
  },
  {
   "cell_type": "markdown",
   "metadata": {},
   "source": [
    "### Case Normalization"
   ]
  },
  {
   "cell_type": "code",
   "execution_count": 10,
   "metadata": {},
   "outputs": [
    {
     "name": "stdout",
     "output_type": "stream",
     "text": [
      "The first time you see The Second Renaissance it may look boring. Look at it at least twice and definitely watch part 2. It will change your view of the matrix. Are the human people the ones who started the war ? Is AI a bad thing ?\n"
     ]
    }
   ],
   "source": [
    "# Sample text\n",
    "text = \"The first time you see The Second Renaissance it may look boring. Look at it at least twice and definitely watch part 2. It will change your view of the matrix. Are the human people the ones who started the war ? Is AI a bad thing ?\"\n",
    "print(text)"
   ]
  },
  {
   "cell_type": "code",
   "execution_count": 11,
   "metadata": {},
   "outputs": [
    {
     "name": "stdout",
     "output_type": "stream",
     "text": [
      "the first time you see the second renaissance it may look boring. look at it at least twice and definitely watch part 2. it will change your view of the matrix. are the human people the ones who started the war ? is ai a bad thing ?\n"
     ]
    }
   ],
   "source": [
    "# Convert to lowercase\n",
    "text = text.lower() \n",
    "print(text)"
   ]
  },
  {
   "cell_type": "markdown",
   "metadata": {},
   "source": [
    "### Punctuation Removal"
   ]
  },
  {
   "cell_type": "code",
   "execution_count": 12,
   "metadata": {},
   "outputs": [
    {
     "name": "stdout",
     "output_type": "stream",
     "text": [
      "the first time you see the second renaissance it may look boring  look at it at least twice and definitely watch part 2  it will change your view of the matrix  are the human people the ones who started the war   is ai a bad thing  \n"
     ]
    }
   ],
   "source": [
    "import re\n",
    "\n",
    "# Remove punctuation characters\n",
    "text = re.sub(r\"[^a-zA-Z0-9]\", \" \", text) \n",
    "print(text)"
   ]
  },
  {
   "cell_type": "markdown",
   "metadata": {},
   "source": [
    "## Tokenization"
   ]
  },
  {
   "cell_type": "code",
   "execution_count": 13,
   "metadata": {},
   "outputs": [
    {
     "name": "stdout",
     "output_type": "stream",
     "text": [
      "['the', 'first', 'time', 'you', 'see', 'the', 'second', 'renaissance', 'it', 'may', 'look', 'boring', 'look', 'at', 'it', 'at', 'least', 'twice', 'and', 'definitely', 'watch', 'part', '2', 'it', 'will', 'change', 'your', 'view', 'of', 'the', 'matrix', 'are', 'the', 'human', 'people', 'the', 'ones', 'who', 'started', 'the', 'war', 'is', 'ai', 'a', 'bad', 'thing']\n"
     ]
    }
   ],
   "source": [
    "# Split text into tokens (words)\n",
    "words = text.split()\n",
    "print(words)"
   ]
  },
  {
   "cell_type": "markdown",
   "metadata": {},
   "source": [
    "### NLTK: Natural Language ToolKit"
   ]
  },
  {
   "cell_type": "code",
   "execution_count": 15,
   "metadata": {},
   "outputs": [],
   "source": [
    "import os\n",
    "import nltk\n",
    "nltk.data.path.append(os.path.join(os.getcwd(), \"nltk_data\"))"
   ]
  },
  {
   "cell_type": "code",
   "execution_count": 16,
   "metadata": {},
   "outputs": [
    {
     "name": "stdout",
     "output_type": "stream",
     "text": [
      "Dr. Smith graduated from the University of Washington. He later started an analytics firm called Lux, which catered to enterprise customers.\n"
     ]
    }
   ],
   "source": [
    "# Another sample text\n",
    "text = \"Dr. Smith graduated from the University of Washington. He later started an analytics firm called Lux, which catered to enterprise customers.\"\n",
    "print(text)"
   ]
  },
  {
   "cell_type": "code",
   "execution_count": 17,
   "metadata": {},
   "outputs": [
    {
     "name": "stdout",
     "output_type": "stream",
     "text": [
      "['Dr.', 'Smith', 'graduated', 'from', 'the', 'University', 'of', 'Washington', '.', 'He', 'later', 'started', 'an', 'analytics', 'firm', 'called', 'Lux', ',', 'which', 'catered', 'to', 'enterprise', 'customers', '.']\n"
     ]
    }
   ],
   "source": [
    "from nltk.tokenize import word_tokenize\n",
    "\n",
    "# Split text into words using NLTK\n",
    "words = word_tokenize(text)\n",
    "print(words)"
   ]
  },
  {
   "cell_type": "code",
   "execution_count": 18,
   "metadata": {},
   "outputs": [
    {
     "name": "stdout",
     "output_type": "stream",
     "text": [
      "['Dr. Smith graduated from the University of Washington.', 'He later started an analytics firm called Lux, which catered to enterprise customers.']\n"
     ]
    }
   ],
   "source": [
    "from nltk.tokenize import sent_tokenize\n",
    "\n",
    "# Split text into sentences\n",
    "sentences = sent_tokenize(text)\n",
    "print(sentences)"
   ]
  },
  {
   "cell_type": "code",
   "execution_count": 19,
   "metadata": {},
   "outputs": [
    {
     "name": "stdout",
     "output_type": "stream",
     "text": [
      "['i', 'me', 'my', 'myself', 'we', 'our', 'ours', 'ourselves', 'you', \"you're\", \"you've\", \"you'll\", \"you'd\", 'your', 'yours', 'yourself', 'yourselves', 'he', 'him', 'his', 'himself', 'she', \"she's\", 'her', 'hers', 'herself', 'it', \"it's\", 'its', 'itself', 'they', 'them', 'their', 'theirs', 'themselves', 'what', 'which', 'who', 'whom', 'this', 'that', \"that'll\", 'these', 'those', 'am', 'is', 'are', 'was', 'were', 'be', 'been', 'being', 'have', 'has', 'had', 'having', 'do', 'does', 'did', 'doing', 'a', 'an', 'the', 'and', 'but', 'if', 'or', 'because', 'as', 'until', 'while', 'of', 'at', 'by', 'for', 'with', 'about', 'against', 'between', 'into', 'through', 'during', 'before', 'after', 'above', 'below', 'to', 'from', 'up', 'down', 'in', 'out', 'on', 'off', 'over', 'under', 'again', 'further', 'then', 'once', 'here', 'there', 'when', 'where', 'why', 'how', 'all', 'any', 'both', 'each', 'few', 'more', 'most', 'other', 'some', 'such', 'no', 'nor', 'not', 'only', 'own', 'same', 'so', 'than', 'too', 'very', 's', 't', 'can', 'will', 'just', 'don', \"don't\", 'should', \"should've\", 'now', 'd', 'll', 'm', 'o', 're', 've', 'y', 'ain', 'aren', \"aren't\", 'couldn', \"couldn't\", 'didn', \"didn't\", 'doesn', \"doesn't\", 'hadn', \"hadn't\", 'hasn', \"hasn't\", 'haven', \"haven't\", 'isn', \"isn't\", 'ma', 'mightn', \"mightn't\", 'mustn', \"mustn't\", 'needn', \"needn't\", 'shan', \"shan't\", 'shouldn', \"shouldn't\", 'wasn', \"wasn't\", 'weren', \"weren't\", 'won', \"won't\", 'wouldn', \"wouldn't\"]\n"
     ]
    }
   ],
   "source": [
    "# List stop words\n",
    "from nltk.corpus import stopwords\n",
    "print(stopwords.words(\"english\"))"
   ]
  },
  {
   "cell_type": "code",
   "execution_count": 20,
   "metadata": {},
   "outputs": [
    {
     "name": "stdout",
     "output_type": "stream",
     "text": [
      "['the', 'first', 'time', 'you', 'see', 'the', 'second', 'renaissance', 'it', 'may', 'look', 'boring', 'look', 'at', 'it', 'at', 'least', 'twice', 'and', 'definitely', 'watch', 'part', '2', 'it', 'will', 'change', 'your', 'view', 'of', 'the', 'matrix', 'are', 'the', 'human', 'people', 'the', 'ones', 'who', 'started', 'the', 'war', 'is', 'ai', 'a', 'bad', 'thing']\n"
     ]
    }
   ],
   "source": [
    "# Reset text\n",
    "text = \"The first time you see The Second Renaissance it may look boring. Look at it at least twice and definitely watch part 2. It will change your view of the matrix. Are the human people the ones who started the war ? Is AI a bad thing ?\"\n",
    "\n",
    "# Normalize it\n",
    "text = re.sub(r\"[^a-zA-Z0-9]\", \" \", text.lower())\n",
    "\n",
    "# Tokenize it\n",
    "words = text.split()\n",
    "print(words)"
   ]
  },
  {
   "cell_type": "code",
   "execution_count": 21,
   "metadata": {},
   "outputs": [
    {
     "name": "stdout",
     "output_type": "stream",
     "text": [
      "['first', 'time', 'see', 'second', 'renaissance', 'may', 'look', 'boring', 'look', 'least', 'twice', 'definitely', 'watch', 'part', '2', 'change', 'view', 'matrix', 'human', 'people', 'ones', 'started', 'war', 'ai', 'bad', 'thing']\n"
     ]
    }
   ],
   "source": [
    "# Remove stop words\n",
    "words = [w for w in words if w not in stopwords.words(\"english\")]\n",
    "print(words)"
   ]
  },
  {
   "cell_type": "markdown",
   "metadata": {},
   "source": [
    "### Sentence Parsing"
   ]
  },
  {
   "cell_type": "code",
   "execution_count": 22,
   "metadata": {},
   "outputs": [
    {
     "name": "stdout",
     "output_type": "stream",
     "text": [
      "(S\n",
      "  (NP I)\n",
      "  (VP\n",
      "    (VP (V shot) (NP (Det an) (N elephant)))\n",
      "    (PP (P in) (NP (Det my) (N pajamas)))))\n",
      "(S\n",
      "  (NP I)\n",
      "  (VP\n",
      "    (V shot)\n",
      "    (NP (Det an) (N elephant) (PP (P in) (NP (Det my) (N pajamas))))))\n"
     ]
    }
   ],
   "source": [
    "import nltk\n",
    "\n",
    "# Define a custom grammar\n",
    "my_grammar = nltk.CFG.fromstring(\"\"\"\n",
    "S -> NP VP\n",
    "PP -> P NP\n",
    "NP -> Det N | Det N PP | 'I'\n",
    "VP -> V NP | VP PP\n",
    "Det -> 'an' | 'my'\n",
    "N -> 'elephant' | 'pajamas'\n",
    "V -> 'shot'\n",
    "P -> 'in'\n",
    "\"\"\")\n",
    "parser = nltk.ChartParser(my_grammar)\n",
    "\n",
    "# Parse a sentence\n",
    "sentence = word_tokenize(\"I shot an elephant in my pajamas\")\n",
    "for tree in parser.parse(sentence):\n",
    "    print(tree)"
   ]
  },
  {
   "cell_type": "markdown",
   "metadata": {},
   "source": [
    "## Stemming & Lemmatization\n",
    "\n",
    "### Stemming"
   ]
  },
  {
   "cell_type": "code",
   "execution_count": 23,
   "metadata": {},
   "outputs": [
    {
     "name": "stdout",
     "output_type": "stream",
     "text": [
      "['first', 'time', 'see', 'second', 'renaiss', 'may', 'look', 'bore', 'look', 'least', 'twice', 'definit', 'watch', 'part', '2', 'chang', 'view', 'matrix', 'human', 'peopl', 'one', 'start', 'war', 'ai', 'bad', 'thing']\n"
     ]
    }
   ],
   "source": [
    "from nltk.stem.porter import PorterStemmer\n",
    "\n",
    "# Reduce words to their stems\n",
    "stemmed = [PorterStemmer().stem(w) for w in words]\n",
    "print(stemmed)"
   ]
  },
  {
   "cell_type": "markdown",
   "metadata": {},
   "source": [
    "### Lemmatization"
   ]
  },
  {
   "cell_type": "code",
   "execution_count": 25,
   "metadata": {},
   "outputs": [
    {
     "name": "stdout",
     "output_type": "stream",
     "text": [
      "['first', 'time', 'see', 'second', 'renaissance', 'may', 'look', 'boring', 'look', 'least', 'twice', 'definitely', 'watch', 'part', '2', 'change', 'view', 'matrix', 'human', 'people', 'one', 'started', 'war', 'ai', 'bad', 'thing']\n"
     ]
    }
   ],
   "source": [
    "from nltk.stem.wordnet import WordNetLemmatizer\n",
    "\n",
    "# Reduce words to their root form\n",
    "lemmed = [WordNetLemmatizer().lemmatize(w) for w in words]\n",
    "print(lemmed)"
   ]
  },
  {
   "cell_type": "code",
   "execution_count": 26,
   "metadata": {},
   "outputs": [
    {
     "name": "stdout",
     "output_type": "stream",
     "text": [
      "['first', 'time', 'see', 'second', 'renaissance', 'may', 'look', 'bore', 'look', 'least', 'twice', 'definitely', 'watch', 'part', '2', 'change', 'view', 'matrix', 'human', 'people', 'one', 'start', 'war', 'ai', 'bad', 'thing']\n"
     ]
    }
   ],
   "source": [
    "# Lemmatize verbs by specifying pos\n",
    "lemmed = [WordNetLemmatizer().lemmatize(w, pos='v') for w in lemmed]\n",
    "print(lemmed)"
   ]
  },
  {
   "cell_type": "code",
   "execution_count": null,
   "metadata": {},
   "outputs": [],
   "source": []
  }
 ],
 "metadata": {
  "kernelspec": {
   "display_name": "Python 3",
   "language": "python",
   "name": "python3"
  },
  "language_info": {
   "codemirror_mode": {
    "name": "ipython",
    "version": 3
   },
   "file_extension": ".py",
   "mimetype": "text/x-python",
   "name": "python",
   "nbconvert_exporter": "python",
   "pygments_lexer": "ipython3",
   "version": "3.6.3"
  }
 },
 "nbformat": 4,
 "nbformat_minor": 2
}
